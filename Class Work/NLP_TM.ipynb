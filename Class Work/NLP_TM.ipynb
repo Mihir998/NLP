{
  "nbformat": 4,
  "nbformat_minor": 0,
  "metadata": {
    "kernelspec": {
      "display_name": "Python 3",
      "language": "python",
      "name": "python3"
    },
    "language_info": {
      "codemirror_mode": {
        "name": "ipython",
        "version": 3
      },
      "file_extension": ".py",
      "mimetype": "text/x-python",
      "name": "python",
      "nbconvert_exporter": "python",
      "pygments_lexer": "ipython3",
      "version": "3.6.4"
    },
    "colab": {
      "provenance": [],
      "collapsed_sections": []
    }
  },
  "cells": [
    {
      "cell_type": "code",
      "metadata": {
        "colab": {
          "base_uri": "https://localhost:8080/"
        },
        "id": "OKQuQ-RQ9Kgf",
        "outputId": "b63f1d6e-0049-4dad-bcaf-f864cde1f00a"
      },
      "source": [
        "from google.colab import drive\n",
        "drive.mount('/gdrive')"
      ],
      "execution_count": null,
      "outputs": [
        {
          "output_type": "stream",
          "name": "stdout",
          "text": [
            "Mounted at /gdrive\n"
          ]
        }
      ]
    },
    {
      "cell_type": "code",
      "metadata": {
        "id": "2pqOEbrh9B6f",
        "colab": {
          "base_uri": "https://localhost:8080/"
        },
        "outputId": "87f0c74d-1bf4-4703-fb40-e7df0b8782d4"
      },
      "source": [
        "import pandas as pd\n",
        "\n",
        "data = pd.read_csv('/gdrive/My Drive/abcnews-date-text.csv', error_bad_lines=False);\n",
        "print(data.head(5))\n",
        "data_text = data[['headline_text']]\n",
        "data_text['index'] = data_text.index\n",
        "documents = data_text"
      ],
      "execution_count": null,
      "outputs": [
        {
          "output_type": "stream",
          "name": "stderr",
          "text": [
            "/usr/local/lib/python3.7/dist-packages/IPython/core/interactiveshell.py:2882: FutureWarning: The error_bad_lines argument has been deprecated and will be removed in a future version.\n",
            "\n",
            "\n",
            "  exec(code_obj, self.user_global_ns, self.user_ns)\n"
          ]
        },
        {
          "output_type": "stream",
          "name": "stdout",
          "text": [
            "   publish_date                                      headline_text\n",
            "0      20030219  aba decides against community broadcasting lic...\n",
            "1      20030219     act fire witnesses must be aware of defamation\n",
            "2      20030219     a g calls for infrastructure protection summit\n",
            "3      20030219           air nz staff in aust strike for pay rise\n",
            "4      20030219      air nz strike to affect australian travellers\n"
          ]
        }
      ]
    },
    {
      "cell_type": "code",
      "metadata": {
        "colab": {
          "base_uri": "https://localhost:8080/"
        },
        "id": "uZmdPyty9B6q",
        "outputId": "8f95fe42-bf29-4a03-e07f-e5213b521478"
      },
      "source": [
        "len(documents)"
      ],
      "execution_count": null,
      "outputs": [
        {
          "output_type": "execute_result",
          "data": {
            "text/plain": [
              "1226258"
            ]
          },
          "metadata": {},
          "execution_count": 3
        }
      ]
    },
    {
      "cell_type": "code",
      "metadata": {
        "colab": {
          "base_uri": "https://localhost:8080/",
          "height": 206
        },
        "id": "Wp5BXLkG9B6u",
        "outputId": "11498dd0-dd38-4d0c-fdf0-080c9d698f06"
      },
      "source": [
        "documents[:5]"
      ],
      "execution_count": null,
      "outputs": [
        {
          "output_type": "execute_result",
          "data": {
            "text/html": [
              "\n",
              "  <div id=\"df-d24c41a4-f348-40af-ad9d-810adfa07f81\">\n",
              "    <div class=\"colab-df-container\">\n",
              "      <div>\n",
              "<style scoped>\n",
              "    .dataframe tbody tr th:only-of-type {\n",
              "        vertical-align: middle;\n",
              "    }\n",
              "\n",
              "    .dataframe tbody tr th {\n",
              "        vertical-align: top;\n",
              "    }\n",
              "\n",
              "    .dataframe thead th {\n",
              "        text-align: right;\n",
              "    }\n",
              "</style>\n",
              "<table border=\"1\" class=\"dataframe\">\n",
              "  <thead>\n",
              "    <tr style=\"text-align: right;\">\n",
              "      <th></th>\n",
              "      <th>headline_text</th>\n",
              "      <th>index</th>\n",
              "    </tr>\n",
              "  </thead>\n",
              "  <tbody>\n",
              "    <tr>\n",
              "      <th>0</th>\n",
              "      <td>aba decides against community broadcasting lic...</td>\n",
              "      <td>0</td>\n",
              "    </tr>\n",
              "    <tr>\n",
              "      <th>1</th>\n",
              "      <td>act fire witnesses must be aware of defamation</td>\n",
              "      <td>1</td>\n",
              "    </tr>\n",
              "    <tr>\n",
              "      <th>2</th>\n",
              "      <td>a g calls for infrastructure protection summit</td>\n",
              "      <td>2</td>\n",
              "    </tr>\n",
              "    <tr>\n",
              "      <th>3</th>\n",
              "      <td>air nz staff in aust strike for pay rise</td>\n",
              "      <td>3</td>\n",
              "    </tr>\n",
              "    <tr>\n",
              "      <th>4</th>\n",
              "      <td>air nz strike to affect australian travellers</td>\n",
              "      <td>4</td>\n",
              "    </tr>\n",
              "  </tbody>\n",
              "</table>\n",
              "</div>\n",
              "      <button class=\"colab-df-convert\" onclick=\"convertToInteractive('df-d24c41a4-f348-40af-ad9d-810adfa07f81')\"\n",
              "              title=\"Convert this dataframe to an interactive table.\"\n",
              "              style=\"display:none;\">\n",
              "        \n",
              "  <svg xmlns=\"http://www.w3.org/2000/svg\" height=\"24px\"viewBox=\"0 0 24 24\"\n",
              "       width=\"24px\">\n",
              "    <path d=\"M0 0h24v24H0V0z\" fill=\"none\"/>\n",
              "    <path d=\"M18.56 5.44l.94 2.06.94-2.06 2.06-.94-2.06-.94-.94-2.06-.94 2.06-2.06.94zm-11 1L8.5 8.5l.94-2.06 2.06-.94-2.06-.94L8.5 2.5l-.94 2.06-2.06.94zm10 10l.94 2.06.94-2.06 2.06-.94-2.06-.94-.94-2.06-.94 2.06-2.06.94z\"/><path d=\"M17.41 7.96l-1.37-1.37c-.4-.4-.92-.59-1.43-.59-.52 0-1.04.2-1.43.59L10.3 9.45l-7.72 7.72c-.78.78-.78 2.05 0 2.83L4 21.41c.39.39.9.59 1.41.59.51 0 1.02-.2 1.41-.59l7.78-7.78 2.81-2.81c.8-.78.8-2.07 0-2.86zM5.41 20L4 18.59l7.72-7.72 1.47 1.35L5.41 20z\"/>\n",
              "  </svg>\n",
              "      </button>\n",
              "      \n",
              "  <style>\n",
              "    .colab-df-container {\n",
              "      display:flex;\n",
              "      flex-wrap:wrap;\n",
              "      gap: 12px;\n",
              "    }\n",
              "\n",
              "    .colab-df-convert {\n",
              "      background-color: #E8F0FE;\n",
              "      border: none;\n",
              "      border-radius: 50%;\n",
              "      cursor: pointer;\n",
              "      display: none;\n",
              "      fill: #1967D2;\n",
              "      height: 32px;\n",
              "      padding: 0 0 0 0;\n",
              "      width: 32px;\n",
              "    }\n",
              "\n",
              "    .colab-df-convert:hover {\n",
              "      background-color: #E2EBFA;\n",
              "      box-shadow: 0px 1px 2px rgba(60, 64, 67, 0.3), 0px 1px 3px 1px rgba(60, 64, 67, 0.15);\n",
              "      fill: #174EA6;\n",
              "    }\n",
              "\n",
              "    [theme=dark] .colab-df-convert {\n",
              "      background-color: #3B4455;\n",
              "      fill: #D2E3FC;\n",
              "    }\n",
              "\n",
              "    [theme=dark] .colab-df-convert:hover {\n",
              "      background-color: #434B5C;\n",
              "      box-shadow: 0px 1px 3px 1px rgba(0, 0, 0, 0.15);\n",
              "      filter: drop-shadow(0px 1px 2px rgba(0, 0, 0, 0.3));\n",
              "      fill: #FFFFFF;\n",
              "    }\n",
              "  </style>\n",
              "\n",
              "      <script>\n",
              "        const buttonEl =\n",
              "          document.querySelector('#df-d24c41a4-f348-40af-ad9d-810adfa07f81 button.colab-df-convert');\n",
              "        buttonEl.style.display =\n",
              "          google.colab.kernel.accessAllowed ? 'block' : 'none';\n",
              "\n",
              "        async function convertToInteractive(key) {\n",
              "          const element = document.querySelector('#df-d24c41a4-f348-40af-ad9d-810adfa07f81');\n",
              "          const dataTable =\n",
              "            await google.colab.kernel.invokeFunction('convertToInteractive',\n",
              "                                                     [key], {});\n",
              "          if (!dataTable) return;\n",
              "\n",
              "          const docLinkHtml = 'Like what you see? Visit the ' +\n",
              "            '<a target=\"_blank\" href=https://colab.research.google.com/notebooks/data_table.ipynb>data table notebook</a>'\n",
              "            + ' to learn more about interactive tables.';\n",
              "          element.innerHTML = '';\n",
              "          dataTable['output_type'] = 'display_data';\n",
              "          await google.colab.output.renderOutput(dataTable, element);\n",
              "          const docLink = document.createElement('div');\n",
              "          docLink.innerHTML = docLinkHtml;\n",
              "          element.appendChild(docLink);\n",
              "        }\n",
              "      </script>\n",
              "    </div>\n",
              "  </div>\n",
              "  "
            ],
            "text/plain": [
              "                                       headline_text  index\n",
              "0  aba decides against community broadcasting lic...      0\n",
              "1     act fire witnesses must be aware of defamation      1\n",
              "2     a g calls for infrastructure protection summit      2\n",
              "3           air nz staff in aust strike for pay rise      3\n",
              "4      air nz strike to affect australian travellers      4"
            ]
          },
          "metadata": {},
          "execution_count": 4
        }
      ]
    },
    {
      "cell_type": "code",
      "source": [
        "documents[:1]['headline_text']\n"
      ],
      "metadata": {
        "colab": {
          "base_uri": "https://localhost:8080/"
        },
        "id": "ZaFdmc_lLr8N",
        "outputId": "3399af05-856b-4a0e-ec59-9a97a84da336"
      },
      "execution_count": null,
      "outputs": [
        {
          "output_type": "execute_result",
          "data": {
            "text/plain": [
              "0    aba decides against community broadcasting lic...\n",
              "Name: headline_text, dtype: object"
            ]
          },
          "metadata": {},
          "execution_count": 5
        }
      ]
    },
    {
      "cell_type": "markdown",
      "metadata": {
        "id": "WhE02B_K9B6v"
      },
      "source": [
        "### Data Preprocessing"
      ]
    },
    {
      "cell_type": "code",
      "metadata": {
        "id": "7xHsieQV9B6w"
      },
      "source": [
        "import gensim\n",
        "from gensim.utils import simple_preprocess\n",
        "from gensim.parsing.preprocessing import STOPWORDS\n",
        "from nltk.stem import WordNetLemmatizer, SnowballStemmer\n",
        "from nltk.stem.porter import *\n",
        "import numpy as np\n",
        "np.random.seed(2018)"
      ],
      "execution_count": null,
      "outputs": []
    },
    {
      "cell_type": "code",
      "metadata": {
        "colab": {
          "base_uri": "https://localhost:8080/"
        },
        "id": "vDc1I5V-9B6x",
        "outputId": "3cd74ebc-dfb5-4d58-d86e-60e2f15f5d5b"
      },
      "source": [
        "import nltk\n",
        "nltk.download('wordnet')"
      ],
      "execution_count": null,
      "outputs": [
        {
          "output_type": "stream",
          "name": "stdout",
          "text": [
            "[nltk_data] Downloading package wordnet to /root/nltk_data...\n",
            "[nltk_data]   Unzipping corpora/wordnet.zip.\n"
          ]
        },
        {
          "output_type": "execute_result",
          "data": {
            "text/plain": [
              "True"
            ]
          },
          "metadata": {},
          "execution_count": 7
        }
      ]
    },
    {
      "cell_type": "markdown",
      "metadata": {
        "id": "cIEKNp4M9B6y"
      },
      "source": [
        "#### Lemmatize example"
      ]
    },
    {
      "cell_type": "code",
      "metadata": {
        "colab": {
          "base_uri": "https://localhost:8080/"
        },
        "id": "rJJFXxl99B6z",
        "outputId": "4b932a13-0435-47f4-bacf-896f5ad38762"
      },
      "source": [
        "print(WordNetLemmatizer().lemmatize('went', pos='v'))"
      ],
      "execution_count": null,
      "outputs": [
        {
          "output_type": "stream",
          "name": "stdout",
          "text": [
            "go\n"
          ]
        }
      ]
    },
    {
      "cell_type": "markdown",
      "metadata": {
        "id": "32mbPXLN9B60"
      },
      "source": [
        "#### Stemmer Example"
      ]
    },
    {
      "cell_type": "code",
      "metadata": {
        "colab": {
          "base_uri": "https://localhost:8080/",
          "height": 645
        },
        "id": "txbYlroB9B60",
        "outputId": "12c71584-c9b9-4139-9705-1f76e8e63211"
      },
      "source": [
        "stemmer = SnowballStemmer('english')\n",
        "original_words = ['caresses', 'flies', 'dies', 'mules', 'denied','died', 'agreed', 'owned', \n",
        "           'humbled', 'sized','meeting', 'stating', 'siezing', 'itemization','sensational', \n",
        "           'traditional', 'reference', 'colonizer','plotted']\n",
        "singles = [stemmer.stem(plural) for plural in original_words]\n",
        "pd.DataFrame(data = {'original word': original_words, 'stemmed': singles})"
      ],
      "execution_count": null,
      "outputs": [
        {
          "output_type": "execute_result",
          "data": {
            "text/html": [
              "\n",
              "  <div id=\"df-fa4b251f-8af0-4bd7-a2f2-f0ad1c330147\">\n",
              "    <div class=\"colab-df-container\">\n",
              "      <div>\n",
              "<style scoped>\n",
              "    .dataframe tbody tr th:only-of-type {\n",
              "        vertical-align: middle;\n",
              "    }\n",
              "\n",
              "    .dataframe tbody tr th {\n",
              "        vertical-align: top;\n",
              "    }\n",
              "\n",
              "    .dataframe thead th {\n",
              "        text-align: right;\n",
              "    }\n",
              "</style>\n",
              "<table border=\"1\" class=\"dataframe\">\n",
              "  <thead>\n",
              "    <tr style=\"text-align: right;\">\n",
              "      <th></th>\n",
              "      <th>original word</th>\n",
              "      <th>stemmed</th>\n",
              "    </tr>\n",
              "  </thead>\n",
              "  <tbody>\n",
              "    <tr>\n",
              "      <th>0</th>\n",
              "      <td>caresses</td>\n",
              "      <td>caress</td>\n",
              "    </tr>\n",
              "    <tr>\n",
              "      <th>1</th>\n",
              "      <td>flies</td>\n",
              "      <td>fli</td>\n",
              "    </tr>\n",
              "    <tr>\n",
              "      <th>2</th>\n",
              "      <td>dies</td>\n",
              "      <td>die</td>\n",
              "    </tr>\n",
              "    <tr>\n",
              "      <th>3</th>\n",
              "      <td>mules</td>\n",
              "      <td>mule</td>\n",
              "    </tr>\n",
              "    <tr>\n",
              "      <th>4</th>\n",
              "      <td>denied</td>\n",
              "      <td>deni</td>\n",
              "    </tr>\n",
              "    <tr>\n",
              "      <th>5</th>\n",
              "      <td>died</td>\n",
              "      <td>die</td>\n",
              "    </tr>\n",
              "    <tr>\n",
              "      <th>6</th>\n",
              "      <td>agreed</td>\n",
              "      <td>agre</td>\n",
              "    </tr>\n",
              "    <tr>\n",
              "      <th>7</th>\n",
              "      <td>owned</td>\n",
              "      <td>own</td>\n",
              "    </tr>\n",
              "    <tr>\n",
              "      <th>8</th>\n",
              "      <td>humbled</td>\n",
              "      <td>humbl</td>\n",
              "    </tr>\n",
              "    <tr>\n",
              "      <th>9</th>\n",
              "      <td>sized</td>\n",
              "      <td>size</td>\n",
              "    </tr>\n",
              "    <tr>\n",
              "      <th>10</th>\n",
              "      <td>meeting</td>\n",
              "      <td>meet</td>\n",
              "    </tr>\n",
              "    <tr>\n",
              "      <th>11</th>\n",
              "      <td>stating</td>\n",
              "      <td>state</td>\n",
              "    </tr>\n",
              "    <tr>\n",
              "      <th>12</th>\n",
              "      <td>siezing</td>\n",
              "      <td>siez</td>\n",
              "    </tr>\n",
              "    <tr>\n",
              "      <th>13</th>\n",
              "      <td>itemization</td>\n",
              "      <td>item</td>\n",
              "    </tr>\n",
              "    <tr>\n",
              "      <th>14</th>\n",
              "      <td>sensational</td>\n",
              "      <td>sensat</td>\n",
              "    </tr>\n",
              "    <tr>\n",
              "      <th>15</th>\n",
              "      <td>traditional</td>\n",
              "      <td>tradit</td>\n",
              "    </tr>\n",
              "    <tr>\n",
              "      <th>16</th>\n",
              "      <td>reference</td>\n",
              "      <td>refer</td>\n",
              "    </tr>\n",
              "    <tr>\n",
              "      <th>17</th>\n",
              "      <td>colonizer</td>\n",
              "      <td>colon</td>\n",
              "    </tr>\n",
              "    <tr>\n",
              "      <th>18</th>\n",
              "      <td>plotted</td>\n",
              "      <td>plot</td>\n",
              "    </tr>\n",
              "  </tbody>\n",
              "</table>\n",
              "</div>\n",
              "      <button class=\"colab-df-convert\" onclick=\"convertToInteractive('df-fa4b251f-8af0-4bd7-a2f2-f0ad1c330147')\"\n",
              "              title=\"Convert this dataframe to an interactive table.\"\n",
              "              style=\"display:none;\">\n",
              "        \n",
              "  <svg xmlns=\"http://www.w3.org/2000/svg\" height=\"24px\"viewBox=\"0 0 24 24\"\n",
              "       width=\"24px\">\n",
              "    <path d=\"M0 0h24v24H0V0z\" fill=\"none\"/>\n",
              "    <path d=\"M18.56 5.44l.94 2.06.94-2.06 2.06-.94-2.06-.94-.94-2.06-.94 2.06-2.06.94zm-11 1L8.5 8.5l.94-2.06 2.06-.94-2.06-.94L8.5 2.5l-.94 2.06-2.06.94zm10 10l.94 2.06.94-2.06 2.06-.94-2.06-.94-.94-2.06-.94 2.06-2.06.94z\"/><path d=\"M17.41 7.96l-1.37-1.37c-.4-.4-.92-.59-1.43-.59-.52 0-1.04.2-1.43.59L10.3 9.45l-7.72 7.72c-.78.78-.78 2.05 0 2.83L4 21.41c.39.39.9.59 1.41.59.51 0 1.02-.2 1.41-.59l7.78-7.78 2.81-2.81c.8-.78.8-2.07 0-2.86zM5.41 20L4 18.59l7.72-7.72 1.47 1.35L5.41 20z\"/>\n",
              "  </svg>\n",
              "      </button>\n",
              "      \n",
              "  <style>\n",
              "    .colab-df-container {\n",
              "      display:flex;\n",
              "      flex-wrap:wrap;\n",
              "      gap: 12px;\n",
              "    }\n",
              "\n",
              "    .colab-df-convert {\n",
              "      background-color: #E8F0FE;\n",
              "      border: none;\n",
              "      border-radius: 50%;\n",
              "      cursor: pointer;\n",
              "      display: none;\n",
              "      fill: #1967D2;\n",
              "      height: 32px;\n",
              "      padding: 0 0 0 0;\n",
              "      width: 32px;\n",
              "    }\n",
              "\n",
              "    .colab-df-convert:hover {\n",
              "      background-color: #E2EBFA;\n",
              "      box-shadow: 0px 1px 2px rgba(60, 64, 67, 0.3), 0px 1px 3px 1px rgba(60, 64, 67, 0.15);\n",
              "      fill: #174EA6;\n",
              "    }\n",
              "\n",
              "    [theme=dark] .colab-df-convert {\n",
              "      background-color: #3B4455;\n",
              "      fill: #D2E3FC;\n",
              "    }\n",
              "\n",
              "    [theme=dark] .colab-df-convert:hover {\n",
              "      background-color: #434B5C;\n",
              "      box-shadow: 0px 1px 3px 1px rgba(0, 0, 0, 0.15);\n",
              "      filter: drop-shadow(0px 1px 2px rgba(0, 0, 0, 0.3));\n",
              "      fill: #FFFFFF;\n",
              "    }\n",
              "  </style>\n",
              "\n",
              "      <script>\n",
              "        const buttonEl =\n",
              "          document.querySelector('#df-fa4b251f-8af0-4bd7-a2f2-f0ad1c330147 button.colab-df-convert');\n",
              "        buttonEl.style.display =\n",
              "          google.colab.kernel.accessAllowed ? 'block' : 'none';\n",
              "\n",
              "        async function convertToInteractive(key) {\n",
              "          const element = document.querySelector('#df-fa4b251f-8af0-4bd7-a2f2-f0ad1c330147');\n",
              "          const dataTable =\n",
              "            await google.colab.kernel.invokeFunction('convertToInteractive',\n",
              "                                                     [key], {});\n",
              "          if (!dataTable) return;\n",
              "\n",
              "          const docLinkHtml = 'Like what you see? Visit the ' +\n",
              "            '<a target=\"_blank\" href=https://colab.research.google.com/notebooks/data_table.ipynb>data table notebook</a>'\n",
              "            + ' to learn more about interactive tables.';\n",
              "          element.innerHTML = '';\n",
              "          dataTable['output_type'] = 'display_data';\n",
              "          await google.colab.output.renderOutput(dataTable, element);\n",
              "          const docLink = document.createElement('div');\n",
              "          docLink.innerHTML = docLinkHtml;\n",
              "          element.appendChild(docLink);\n",
              "        }\n",
              "      </script>\n",
              "    </div>\n",
              "  </div>\n",
              "  "
            ],
            "text/plain": [
              "   original word stemmed\n",
              "0       caresses  caress\n",
              "1          flies     fli\n",
              "2           dies     die\n",
              "3          mules    mule\n",
              "4         denied    deni\n",
              "5           died     die\n",
              "6         agreed    agre\n",
              "7          owned     own\n",
              "8        humbled   humbl\n",
              "9          sized    size\n",
              "10       meeting    meet\n",
              "11       stating   state\n",
              "12       siezing    siez\n",
              "13   itemization    item\n",
              "14   sensational  sensat\n",
              "15   traditional  tradit\n",
              "16     reference   refer\n",
              "17     colonizer   colon\n",
              "18       plotted    plot"
            ]
          },
          "metadata": {},
          "execution_count": 9
        }
      ]
    },
    {
      "cell_type": "code",
      "metadata": {
        "id": "SoATQbwx9B62"
      },
      "source": [
        "def lemmatize_stemming(text):\n",
        "    return stemmer.stem(WordNetLemmatizer().lemmatize(text, pos='v'))\n",
        "\n",
        "def preprocess(text):\n",
        "    result = []\n",
        "    for token in gensim.utils.simple_preprocess(text):\n",
        "        if token not in gensim.parsing.preprocessing.STOPWORDS and len(token) > 3:\n",
        "            result.append(lemmatize_stemming(token))\n",
        "    return result"
      ],
      "execution_count": null,
      "outputs": []
    },
    {
      "cell_type": "code",
      "metadata": {
        "colab": {
          "base_uri": "https://localhost:8080/"
        },
        "id": "pdPL8iwk9B63",
        "outputId": "8b0f54f2-3f81-40f8-d060-be1dff1ceeca"
      },
      "source": [
        "doc_sample = documents[documents['index'] == 4310].values[0][0]\n",
        "\n",
        "print('original document: ')\n",
        "words = []\n",
        "for word in doc_sample.split(' '):\n",
        "    words.append(word)\n",
        "print(words)\n",
        "print('\\n\\n tokenized and lemmatized document: ')\n",
        "print(preprocess(doc_sample))"
      ],
      "execution_count": null,
      "outputs": [
        {
          "output_type": "stream",
          "name": "stdout",
          "text": [
            "original document: \n",
            "['ratepayers', 'group', 'wants', 'compulsory', 'local', 'govt', 'voting']\n",
            "\n",
            "\n",
            " tokenized and lemmatized document: \n",
            "['ratepay', 'group', 'want', 'compulsori', 'local', 'govt', 'vote']\n"
          ]
        }
      ]
    },
    {
      "cell_type": "code",
      "metadata": {
        "id": "kcpj-wiD9B64"
      },
      "source": [
        "processed_docs = documents['headline_text'].map(preprocess)"
      ],
      "execution_count": null,
      "outputs": []
    },
    {
      "cell_type": "code",
      "metadata": {
        "colab": {
          "base_uri": "https://localhost:8080/"
        },
        "id": "s1KhQ5tv9B64",
        "outputId": "f29abaaa-245a-4e62-9aa5-e518372f7502"
      },
      "source": [
        "processed_docs[:10]"
      ],
      "execution_count": null,
      "outputs": [
        {
          "output_type": "execute_result",
          "data": {
            "text/plain": [
              "0            [decid, communiti, broadcast, licenc]\n",
              "1                               [wit, awar, defam]\n",
              "2           [call, infrastructur, protect, summit]\n",
              "3                      [staff, aust, strike, rise]\n",
              "4             [strike, affect, australian, travel]\n",
              "5               [ambiti, olsson, win, tripl, jump]\n",
              "6           [antic, delight, record, break, barca]\n",
              "7    [aussi, qualifi, stosur, wast, memphi, match]\n",
              "8            [aust, address, secur, council, iraq]\n",
              "9                         [australia, lock, timet]\n",
              "Name: headline_text, dtype: object"
            ]
          },
          "metadata": {},
          "execution_count": 13
        }
      ]
    },
    {
      "cell_type": "markdown",
      "metadata": {
        "id": "_ImVYaKi9B65"
      },
      "source": [
        "### Bag of words on the dataset"
      ]
    },
    {
      "cell_type": "code",
      "metadata": {
        "id": "JtxC2f149B66"
      },
      "source": [
        "dictionary = gensim.corpora.Dictionary(processed_docs)"
      ],
      "execution_count": null,
      "outputs": []
    },
    {
      "cell_type": "code",
      "metadata": {
        "colab": {
          "base_uri": "https://localhost:8080/"
        },
        "id": "SH2XUAbV9B66",
        "outputId": "367dfa7a-81b6-4287-ddf9-53e42a0ed826"
      },
      "source": [
        "count = 0\n",
        "for k, v in dictionary.iteritems():\n",
        "    print(k, v)\n",
        "    count += 1\n",
        "    if count > 10:\n",
        "        break"
      ],
      "execution_count": null,
      "outputs": [
        {
          "output_type": "stream",
          "name": "stdout",
          "text": [
            "0 broadcast\n",
            "1 communiti\n",
            "2 decid\n",
            "3 licenc\n",
            "4 awar\n",
            "5 defam\n",
            "6 wit\n",
            "7 call\n",
            "8 infrastructur\n",
            "9 protect\n",
            "10 summit\n"
          ]
        }
      ]
    },
    {
      "cell_type": "code",
      "metadata": {
        "id": "fWxkMGHs9B67"
      },
      "source": [
        "dictionary.filter_extremes(no_below=15, no_above=0.5, keep_n=100000)"
      ],
      "execution_count": null,
      "outputs": []
    },
    {
      "cell_type": "code",
      "metadata": {
        "colab": {
          "base_uri": "https://localhost:8080/"
        },
        "id": "U7ZBARXK9B68",
        "outputId": "cbe5e340-540b-46a8-aa88-ae181c563df5"
      },
      "source": [
        "bow_corpus = [dictionary.doc2bow(doc) for doc in processed_docs]\n",
        "bow_corpus[4310]"
      ],
      "execution_count": null,
      "outputs": [
        {
          "output_type": "execute_result",
          "data": {
            "text/plain": [
              "[(162, 1), (240, 1), (292, 1), (589, 1), (838, 1), (3570, 1), (3571, 1)]"
            ]
          },
          "metadata": {},
          "execution_count": 17
        }
      ]
    },
    {
      "cell_type": "code",
      "metadata": {
        "colab": {
          "base_uri": "https://localhost:8080/"
        },
        "id": "VmIn004g9B69",
        "outputId": "76481063-4e5a-44d8-f55f-e86cc6c0f805"
      },
      "source": [
        "bow_doc_4310 = bow_corpus[4310]\n",
        "\n",
        "for i in range(len(bow_doc_4310)):\n",
        "    print(\"Word {} (\\\"{}\\\") appears {} time.\".format(bow_doc_4310[i][0], \n",
        "                                                     dictionary[bow_doc_4310[i][0]], \n",
        "                                                     bow_doc_4310[i][1]))"
      ],
      "execution_count": null,
      "outputs": [
        {
          "output_type": "stream",
          "name": "stdout",
          "text": [
            "Word 162 (\"govt\") appears 1 time.\n",
            "Word 240 (\"group\") appears 1 time.\n",
            "Word 292 (\"vote\") appears 1 time.\n",
            "Word 589 (\"local\") appears 1 time.\n",
            "Word 838 (\"want\") appears 1 time.\n",
            "Word 3570 (\"compulsori\") appears 1 time.\n",
            "Word 3571 (\"ratepay\") appears 1 time.\n"
          ]
        }
      ]
    },
    {
      "cell_type": "markdown",
      "metadata": {
        "id": "pNzfj5F-9B6-"
      },
      "source": [
        "### TF-IDF"
      ]
    },
    {
      "cell_type": "code",
      "metadata": {
        "id": "DSdZJHDo9B6-"
      },
      "source": [
        "from gensim import corpora, models\n",
        "\n",
        "tfidf = models.TfidfModel(bow_corpus)"
      ],
      "execution_count": null,
      "outputs": []
    },
    {
      "cell_type": "code",
      "metadata": {
        "id": "b5oT6yQr9B6_"
      },
      "source": [
        "corpus_tfidf = tfidf[bow_corpus]"
      ],
      "execution_count": null,
      "outputs": []
    },
    {
      "cell_type": "code",
      "metadata": {
        "colab": {
          "base_uri": "https://localhost:8080/"
        },
        "id": "H2ARE5FY9B7A",
        "outputId": "652e508d-e09b-4f32-e6ed-317e026ba455"
      },
      "source": [
        "from pprint import pprint\n",
        "\n",
        "for doc in corpus_tfidf:\n",
        "    pprint(doc)\n",
        "    break"
      ],
      "execution_count": null,
      "outputs": [
        {
          "output_type": "stream",
          "name": "stdout",
          "text": [
            "[(0, 0.5842699484464488),\n",
            " (1, 0.38798859072167835),\n",
            " (2, 0.5008422243250992),\n",
            " (3, 0.5071987254965034)]\n"
          ]
        }
      ]
    },
    {
      "cell_type": "markdown",
      "metadata": {
        "id": "tM4OOE0z9B7A"
      },
      "source": [
        "### Running LDA using Bag of Words"
      ]
    },
    {
      "cell_type": "code",
      "metadata": {
        "id": "tJJz5R9o9B7B"
      },
      "source": [
        "lda_model = gensim.models.LdaMulticore(bow_corpus, num_topics=10, id2word=dictionary, passes=2, workers=2)"
      ],
      "execution_count": null,
      "outputs": []
    },
    {
      "cell_type": "code",
      "metadata": {
        "colab": {
          "base_uri": "https://localhost:8080/"
        },
        "id": "WuLDy01Q9B7B",
        "outputId": "22e74006-0c1b-43b9-878e-2a5f2d641228"
      },
      "source": [
        "for idx, topic in lda_model.print_topics(-1):\n",
        "    print('Topic: {} \\nWords: {}'.format(idx, topic))"
      ],
      "execution_count": null,
      "outputs": [
        {
          "output_type": "stream",
          "name": "stdout",
          "text": [
            "Topic: 0 \n",
            "Words: 0.017*\"border\" + 0.016*\"australia\" + 0.013*\"interview\" + 0.013*\"health\" + 0.010*\"talk\" + 0.010*\"say\" + 0.009*\"weather\" + 0.008*\"mental\" + 0.008*\"hobart\" + 0.008*\"doctor\"\n",
            "Topic: 1 \n",
            "Words: 0.044*\"trump\" + 0.029*\"charg\" + 0.028*\"case\" + 0.028*\"court\" + 0.023*\"murder\" + 0.018*\"face\" + 0.017*\"alleg\" + 0.015*\"jail\" + 0.014*\"trial\" + 0.014*\"accus\"\n",
            "Topic: 2 \n",
            "Words: 0.043*\"coronavirus\" + 0.041*\"covid\" + 0.016*\"tasmania\" + 0.013*\"dead\" + 0.011*\"fund\" + 0.011*\"student\" + 0.010*\"countri\" + 0.010*\"break\" + 0.009*\"indigen\" + 0.009*\"communiti\"\n",
            "Topic: 3 \n",
            "Words: 0.039*\"queensland\" + 0.031*\"victoria\" + 0.028*\"melbourn\" + 0.020*\"coast\" + 0.014*\"coronavirus\" + 0.014*\"farmer\" + 0.014*\"australia\" + 0.013*\"win\" + 0.012*\"gold\" + 0.012*\"west\"\n",
            "Topic: 4 \n",
            "Words: 0.022*\"home\" + 0.022*\"kill\" + 0.021*\"news\" + 0.018*\"state\" + 0.015*\"perth\" + 0.015*\"bushfir\" + 0.014*\"peopl\" + 0.012*\"child\" + 0.011*\"care\" + 0.010*\"victim\"\n",
            "Topic: 5 \n",
            "Words: 0.021*\"open\" + 0.020*\"adelaid\" + 0.016*\"final\" + 0.016*\"miss\" + 0.013*\"scott\" + 0.013*\"lose\" + 0.012*\"street\" + 0.011*\"beat\" + 0.010*\"season\" + 0.010*\"search\"\n",
            "Topic: 6 \n",
            "Words: 0.057*\"polic\" + 0.025*\"donald\" + 0.024*\"live\" + 0.016*\"crash\" + 0.016*\"death\" + 0.016*\"shoot\" + 0.015*\"investig\" + 0.013*\"royal\" + 0.013*\"die\" + 0.012*\"morrison\"\n",
            "Topic: 7 \n",
            "Words: 0.035*\"coronavirus\" + 0.020*\"south\" + 0.018*\"north\" + 0.017*\"restrict\" + 0.016*\"rise\" + 0.016*\"nation\" + 0.015*\"victorian\" + 0.015*\"water\" + 0.012*\"year\" + 0.012*\"price\"\n",
            "Topic: 8 \n",
            "Words: 0.038*\"australia\" + 0.022*\"world\" + 0.019*\"market\" + 0.017*\"protest\" + 0.017*\"record\" + 0.015*\"australian\" + 0.014*\"china\" + 0.014*\"busi\" + 0.012*\"time\" + 0.011*\"offic\"\n",
            "Topic: 9 \n",
            "Words: 0.027*\"elect\" + 0.023*\"govern\" + 0.021*\"say\" + 0.011*\"chang\" + 0.011*\"labor\" + 0.011*\"speak\" + 0.010*\"drum\" + 0.010*\"andrew\" + 0.009*\"feder\" + 0.009*\"public\"\n"
          ]
        }
      ]
    },
    {
      "cell_type": "markdown",
      "metadata": {
        "id": "6WslGeNE9B7C"
      },
      "source": [
        "Cool! Can you distinguish different topics using the words in each topic and their corresponding weights?"
      ]
    },
    {
      "cell_type": "markdown",
      "metadata": {
        "id": "FWwkLN9Z9B7D"
      },
      "source": [
        "### Running LDA using TF-IDF"
      ]
    },
    {
      "cell_type": "code",
      "metadata": {
        "id": "olhe1zFn9B7D"
      },
      "source": [
        "lda_model_tfidf = gensim.models.LdaMulticore(corpus_tfidf, num_topics=10, id2word=dictionary, passes=2, workers=4)"
      ],
      "execution_count": null,
      "outputs": []
    },
    {
      "cell_type": "code",
      "metadata": {
        "colab": {
          "base_uri": "https://localhost:8080/"
        },
        "id": "-G2EaU6P9B7E",
        "outputId": "b41964d8-778c-4dd7-e348-22f1dbcfbe0d"
      },
      "source": [
        "for idx, topic in lda_model_tfidf.print_topics(-1):\n",
        "    print('Topic: {} Word: {}'.format(idx, topic))"
      ],
      "execution_count": null,
      "outputs": [
        {
          "output_type": "stream",
          "name": "stdout",
          "text": [
            "Topic: 0 Word: 0.019*\"govern\" + 0.009*\"stori\" + 0.008*\"queensland\" + 0.008*\"michael\" + 0.007*\"updat\" + 0.006*\"farm\" + 0.006*\"coronavirus\" + 0.006*\"august\" + 0.005*\"northern\" + 0.005*\"drought\"\n",
            "Topic: 1 Word: 0.028*\"trump\" + 0.016*\"donald\" + 0.008*\"street\" + 0.007*\"sport\" + 0.007*\"christma\" + 0.007*\"wall\" + 0.006*\"grandstand\" + 0.006*\"coronavirus\" + 0.005*\"june\" + 0.005*\"peter\"\n",
            "Topic: 2 Word: 0.014*\"countri\" + 0.010*\"hour\" + 0.010*\"elect\" + 0.008*\"royal\" + 0.008*\"commiss\" + 0.007*\"turnbul\" + 0.006*\"liber\" + 0.006*\"korea\" + 0.006*\"coronavirus\" + 0.006*\"lockdown\"\n",
            "Topic: 3 Word: 0.015*\"coronavirus\" + 0.010*\"live\" + 0.009*\"price\" + 0.009*\"covid\" + 0.008*\"morrison\" + 0.007*\"market\" + 0.007*\"rise\" + 0.007*\"scott\" + 0.007*\"australia\" + 0.006*\"australian\"\n",
            "Topic: 4 Word: 0.009*\"australia\" + 0.008*\"world\" + 0.008*\"interview\" + 0.007*\"leagu\" + 0.007*\"final\" + 0.007*\"monday\" + 0.007*\"wednesday\" + 0.007*\"andrew\" + 0.006*\"hill\" + 0.006*\"cricket\"\n",
            "Topic: 5 Word: 0.016*\"charg\" + 0.015*\"murder\" + 0.012*\"court\" + 0.011*\"alleg\" + 0.010*\"polic\" + 0.009*\"jail\" + 0.009*\"death\" + 0.009*\"sentenc\" + 0.008*\"assault\" + 0.008*\"woman\"\n",
            "Topic: 6 Word: 0.011*\"coronavirus\" + 0.011*\"rural\" + 0.009*\"health\" + 0.009*\"news\" + 0.006*\"care\" + 0.006*\"nation\" + 0.006*\"tuesday\" + 0.006*\"fund\" + 0.006*\"restrict\" + 0.005*\"covid\"\n",
            "Topic: 7 Word: 0.013*\"drum\" + 0.010*\"polic\" + 0.007*\"kill\" + 0.007*\"video\" + 0.007*\"bushfir\" + 0.006*\"shoot\" + 0.006*\"attack\" + 0.006*\"septemb\" + 0.005*\"biden\" + 0.005*\"bomb\"\n",
            "Topic: 8 Word: 0.012*\"crash\" + 0.008*\"climat\" + 0.008*\"weather\" + 0.007*\"miss\" + 0.007*\"search\" + 0.007*\"david\" + 0.006*\"die\" + 0.006*\"plead\" + 0.005*\"outback\" + 0.005*\"truck\"\n",
            "Topic: 9 Word: 0.010*\"thursday\" + 0.009*\"financ\" + 0.008*\"pandem\" + 0.006*\"hobart\" + 0.006*\"spring\" + 0.006*\"johnson\" + 0.005*\"vaccin\" + 0.005*\"coronavirus\" + 0.005*\"decemb\" + 0.005*\"drone\"\n"
          ]
        }
      ]
    },
    {
      "cell_type": "markdown",
      "metadata": {
        "id": "-ZU7HYhJ9B7F"
      },
      "source": [
        "### Classification of the topics"
      ]
    },
    {
      "cell_type": "markdown",
      "metadata": {
        "id": "cAMWgNEc9B7F"
      },
      "source": [
        "### Performance evaluation by classifying sample document using LDA Bag of Words model"
      ]
    },
    {
      "cell_type": "code",
      "metadata": {
        "id": "2UwoSYlu9B7G",
        "colab": {
          "base_uri": "https://localhost:8080/"
        },
        "outputId": "0a78a540-0c21-4210-8b60-d1398856f927"
      },
      "source": [
        "processed_docs[4310]"
      ],
      "execution_count": null,
      "outputs": [
        {
          "output_type": "execute_result",
          "data": {
            "text/plain": [
              "['ratepay', 'group', 'want', 'compulsori', 'local', 'govt', 'vote']"
            ]
          },
          "metadata": {},
          "execution_count": 26
        }
      ]
    },
    {
      "cell_type": "code",
      "metadata": {
        "id": "pu_onr5B9B7H",
        "colab": {
          "base_uri": "https://localhost:8080/"
        },
        "outputId": "5125fed6-304d-4601-b0e5-391dfe735e88"
      },
      "source": [
        "for index, score in sorted(lda_model[bow_corpus[4310]], key=lambda tup: -1*tup[1]):\n",
        "    print(\"\\nScore: {}\\t \\nTopic: {}\".format(score, lda_model.print_topic(index, 10)))"
      ],
      "execution_count": null,
      "outputs": [
        {
          "output_type": "stream",
          "name": "stdout",
          "text": [
            "\n",
            "Score: 0.8874974250793457\t \n",
            "Topic: 0.027*\"elect\" + 0.023*\"govern\" + 0.021*\"say\" + 0.011*\"chang\" + 0.011*\"labor\" + 0.011*\"speak\" + 0.010*\"drum\" + 0.010*\"andrew\" + 0.009*\"feder\" + 0.009*\"public\"\n",
            "\n",
            "Score: 0.01250146608799696\t \n",
            "Topic: 0.043*\"coronavirus\" + 0.041*\"covid\" + 0.016*\"tasmania\" + 0.013*\"dead\" + 0.011*\"fund\" + 0.011*\"student\" + 0.010*\"countri\" + 0.010*\"break\" + 0.009*\"indigen\" + 0.009*\"communiti\"\n",
            "\n",
            "Score: 0.012500612996518612\t \n",
            "Topic: 0.035*\"coronavirus\" + 0.020*\"south\" + 0.018*\"north\" + 0.017*\"restrict\" + 0.016*\"rise\" + 0.016*\"nation\" + 0.015*\"victorian\" + 0.015*\"water\" + 0.012*\"year\" + 0.012*\"price\"\n",
            "\n",
            "Score: 0.012500498443841934\t \n",
            "Topic: 0.038*\"australia\" + 0.022*\"world\" + 0.019*\"market\" + 0.017*\"protest\" + 0.017*\"record\" + 0.015*\"australian\" + 0.014*\"china\" + 0.014*\"busi\" + 0.012*\"time\" + 0.011*\"offic\"\n",
            "\n",
            "Score: 0.012500000186264515\t \n",
            "Topic: 0.017*\"border\" + 0.016*\"australia\" + 0.013*\"interview\" + 0.013*\"health\" + 0.010*\"talk\" + 0.010*\"say\" + 0.009*\"weather\" + 0.008*\"mental\" + 0.008*\"hobart\" + 0.008*\"doctor\"\n",
            "\n",
            "Score: 0.012500000186264515\t \n",
            "Topic: 0.044*\"trump\" + 0.029*\"charg\" + 0.028*\"case\" + 0.028*\"court\" + 0.023*\"murder\" + 0.018*\"face\" + 0.017*\"alleg\" + 0.015*\"jail\" + 0.014*\"trial\" + 0.014*\"accus\"\n",
            "\n",
            "Score: 0.012500000186264515\t \n",
            "Topic: 0.039*\"queensland\" + 0.031*\"victoria\" + 0.028*\"melbourn\" + 0.020*\"coast\" + 0.014*\"coronavirus\" + 0.014*\"farmer\" + 0.014*\"australia\" + 0.013*\"win\" + 0.012*\"gold\" + 0.012*\"west\"\n",
            "\n",
            "Score: 0.012500000186264515\t \n",
            "Topic: 0.022*\"home\" + 0.022*\"kill\" + 0.021*\"news\" + 0.018*\"state\" + 0.015*\"perth\" + 0.015*\"bushfir\" + 0.014*\"peopl\" + 0.012*\"child\" + 0.011*\"care\" + 0.010*\"victim\"\n",
            "\n",
            "Score: 0.012500000186264515\t \n",
            "Topic: 0.021*\"open\" + 0.020*\"adelaid\" + 0.016*\"final\" + 0.016*\"miss\" + 0.013*\"scott\" + 0.013*\"lose\" + 0.012*\"street\" + 0.011*\"beat\" + 0.010*\"season\" + 0.010*\"search\"\n",
            "\n",
            "Score: 0.012500000186264515\t \n",
            "Topic: 0.057*\"polic\" + 0.025*\"donald\" + 0.024*\"live\" + 0.016*\"crash\" + 0.016*\"death\" + 0.016*\"shoot\" + 0.015*\"investig\" + 0.013*\"royal\" + 0.013*\"die\" + 0.012*\"morrison\"\n"
          ]
        }
      ]
    },
    {
      "cell_type": "markdown",
      "metadata": {
        "id": "9UmEAHU89B7I"
      },
      "source": [
        "Our test document has the highest probability to be part of the topic on the top."
      ]
    },
    {
      "cell_type": "markdown",
      "metadata": {
        "id": "MIopxqet9B7I"
      },
      "source": [
        "### Performance evaluation by classifying sample document using LDA TF-IDF model"
      ]
    },
    {
      "cell_type": "code",
      "metadata": {
        "id": "QLuahNdJ9B7J",
        "outputId": "6406356b-d5a3-4a74-ad88-4abd7ca32eb4",
        "colab": {
          "base_uri": "https://localhost:8080/"
        }
      },
      "source": [
        "for index, score in sorted(lda_model_tfidf[bow_corpus[4310]], key=lambda tup: -1*tup[1]):\n",
        "    print(\"\\nScore: {}\\t \\nTopic: {}\".format(score, lda_model_tfidf.print_topic(index, 10)))"
      ],
      "execution_count": null,
      "outputs": [
        {
          "output_type": "stream",
          "name": "stdout",
          "text": [
            "\n",
            "Score: 0.5304198265075684\t \n",
            "Topic: 0.011*\"coronavirus\" + 0.011*\"rural\" + 0.009*\"health\" + 0.009*\"news\" + 0.006*\"care\" + 0.006*\"nation\" + 0.006*\"tuesday\" + 0.006*\"fund\" + 0.006*\"restrict\" + 0.005*\"covid\"\n",
            "\n",
            "Score: 0.21522954106330872\t \n",
            "Topic: 0.010*\"thursday\" + 0.009*\"financ\" + 0.008*\"pandem\" + 0.006*\"hobart\" + 0.006*\"spring\" + 0.006*\"johnson\" + 0.005*\"vaccin\" + 0.005*\"coronavirus\" + 0.005*\"decemb\" + 0.005*\"drone\"\n",
            "\n",
            "Score: 0.16683483123779297\t \n",
            "Topic: 0.009*\"australia\" + 0.008*\"world\" + 0.008*\"interview\" + 0.007*\"leagu\" + 0.007*\"final\" + 0.007*\"monday\" + 0.007*\"wednesday\" + 0.007*\"andrew\" + 0.006*\"hill\" + 0.006*\"cricket\"\n",
            "\n",
            "Score: 0.01250718254595995\t \n",
            "Topic: 0.014*\"countri\" + 0.010*\"hour\" + 0.010*\"elect\" + 0.008*\"royal\" + 0.008*\"commiss\" + 0.007*\"turnbul\" + 0.006*\"liber\" + 0.006*\"korea\" + 0.006*\"coronavirus\" + 0.006*\"lockdown\"\n",
            "\n",
            "Score: 0.012502857483923435\t \n",
            "Topic: 0.019*\"govern\" + 0.009*\"stori\" + 0.008*\"queensland\" + 0.008*\"michael\" + 0.007*\"updat\" + 0.006*\"farm\" + 0.006*\"coronavirus\" + 0.006*\"august\" + 0.005*\"northern\" + 0.005*\"drought\"\n",
            "\n",
            "Score: 0.012502405792474747\t \n",
            "Topic: 0.028*\"trump\" + 0.016*\"donald\" + 0.008*\"street\" + 0.007*\"sport\" + 0.007*\"christma\" + 0.007*\"wall\" + 0.006*\"grandstand\" + 0.006*\"coronavirus\" + 0.005*\"june\" + 0.005*\"peter\"\n",
            "\n",
            "Score: 0.012501753866672516\t \n",
            "Topic: 0.015*\"coronavirus\" + 0.010*\"live\" + 0.009*\"price\" + 0.009*\"covid\" + 0.008*\"morrison\" + 0.007*\"market\" + 0.007*\"rise\" + 0.007*\"scott\" + 0.007*\"australia\" + 0.006*\"australian\"\n",
            "\n",
            "Score: 0.012500708922743797\t \n",
            "Topic: 0.016*\"charg\" + 0.015*\"murder\" + 0.012*\"court\" + 0.011*\"alleg\" + 0.010*\"polic\" + 0.009*\"jail\" + 0.009*\"death\" + 0.009*\"sentenc\" + 0.008*\"assault\" + 0.008*\"woman\"\n",
            "\n",
            "Score: 0.012500541284680367\t \n",
            "Topic: 0.013*\"drum\" + 0.010*\"polic\" + 0.007*\"kill\" + 0.007*\"video\" + 0.007*\"bushfir\" + 0.006*\"shoot\" + 0.006*\"attack\" + 0.006*\"septemb\" + 0.005*\"biden\" + 0.005*\"bomb\"\n",
            "\n",
            "Score: 0.012500387616455555\t \n",
            "Topic: 0.012*\"crash\" + 0.008*\"climat\" + 0.008*\"weather\" + 0.007*\"miss\" + 0.007*\"search\" + 0.007*\"david\" + 0.006*\"die\" + 0.006*\"plead\" + 0.005*\"outback\" + 0.005*\"truck\"\n"
          ]
        }
      ]
    },
    {
      "cell_type": "markdown",
      "metadata": {
        "id": "aVSY11mI9B7K"
      },
      "source": [
        "Our test document has the highest probability to be part of the topic on the top."
      ]
    },
    {
      "cell_type": "markdown",
      "metadata": {
        "id": "5-2XVAmd9B7K"
      },
      "source": [
        "### Testing model on unseen document"
      ]
    },
    {
      "cell_type": "code",
      "metadata": {
        "id": "oNoxKixh9B7L",
        "outputId": "76cd0d37-f6fe-4586-bcbd-88e15f3afe8f",
        "colab": {
          "base_uri": "https://localhost:8080/"
        }
      },
      "source": [
        "unseen_document = 'How a Pentagon deal became an identity crisis for Google'\n",
        "#unseen_document = 'Coronavirus disrupted health in Australia'\n",
        "bow_vector = dictionary.doc2bow(preprocess(unseen_document))\n",
        "\n",
        "for index, score in sorted(lda_model[bow_vector], key=lambda tup: -1*tup[1]):\n",
        "    print(\"Score: {}\\t Topic: {}\".format(score, lda_model.print_topic(index, 5)))"
      ],
      "execution_count": null,
      "outputs": [
        {
          "output_type": "stream",
          "name": "stdout",
          "text": [
            "Score: 0.35000061988830566\t Topic: 0.038*\"australia\" + 0.022*\"world\" + 0.019*\"market\" + 0.017*\"protest\" + 0.017*\"record\"\n",
            "Score: 0.18333333730697632\t Topic: 0.039*\"queensland\" + 0.031*\"victoria\" + 0.028*\"melbourn\" + 0.020*\"coast\" + 0.014*\"coronavirus\"\n",
            "Score: 0.18333324790000916\t Topic: 0.027*\"elect\" + 0.023*\"govern\" + 0.021*\"say\" + 0.011*\"chang\" + 0.011*\"labor\"\n",
            "Score: 0.18333283066749573\t Topic: 0.017*\"border\" + 0.016*\"australia\" + 0.013*\"interview\" + 0.013*\"health\" + 0.010*\"talk\"\n",
            "Score: 0.01666666753590107\t Topic: 0.044*\"trump\" + 0.029*\"charg\" + 0.028*\"case\" + 0.028*\"court\" + 0.023*\"murder\"\n",
            "Score: 0.01666666753590107\t Topic: 0.043*\"coronavirus\" + 0.041*\"covid\" + 0.016*\"tasmania\" + 0.013*\"dead\" + 0.011*\"fund\"\n",
            "Score: 0.01666666753590107\t Topic: 0.022*\"home\" + 0.022*\"kill\" + 0.021*\"news\" + 0.018*\"state\" + 0.015*\"perth\"\n",
            "Score: 0.01666666753590107\t Topic: 0.021*\"open\" + 0.020*\"adelaid\" + 0.016*\"final\" + 0.016*\"miss\" + 0.013*\"scott\"\n",
            "Score: 0.01666666753590107\t Topic: 0.057*\"polic\" + 0.025*\"donald\" + 0.024*\"live\" + 0.016*\"crash\" + 0.016*\"death\"\n",
            "Score: 0.01666666753590107\t Topic: 0.035*\"coronavirus\" + 0.020*\"south\" + 0.018*\"north\" + 0.017*\"restrict\" + 0.016*\"rise\"\n"
          ]
        }
      ]
    },
    {
      "cell_type": "code",
      "metadata": {
        "id": "3Sab536z9B7M"
      },
      "source": [],
      "execution_count": null,
      "outputs": []
    }
  ]
}